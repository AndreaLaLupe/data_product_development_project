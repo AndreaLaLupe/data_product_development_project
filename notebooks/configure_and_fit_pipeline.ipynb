{
 "cells": [
  {
   "cell_type": "markdown",
   "metadata": {},
   "source": [
    "# Librerías"
   ]
  },
  {
   "cell_type": "code",
   "execution_count": 17,
   "metadata": {},
   "outputs": [],
   "source": [
    "# Librerías\n",
    "import os\n",
    "import pandas as pd\n",
    "import pickle\n",
    "from sklearn.model_selection import GridSearchCV\n",
    "from sklearn.metrics import f1_score, classification_report\n",
    "from sklearn.linear_model import LogisticRegression\n",
    "from sklearn.tree import DecisionTreeClassifier\n",
    "from sklearn.ensemble import RandomForestClassifier\n",
    "from sklearn.svm import SVC\n",
    "from xgboost import XGBClassifier\n",
    "from sklearn.pipeline import Pipeline\n"
   ]
  },
  {
   "cell_type": "markdown",
   "metadata": {},
   "source": [
    "# Configuracion inicial"
   ]
  },
  {
   "cell_type": "code",
   "execution_count": 18,
   "metadata": {},
   "outputs": [],
   "source": [
    "# Configuración inicial\n",
    "project_path = os.path.abspath(os.path.join(os.getcwd())) \n",
    "data_processed_path = os.path.join(project_path, \"..\", \"data\", \"processed\")\n",
    "artifacts_path = os.path.join(project_path, \"..\", \"artifacts\")\n",
    "pipeline_path = os.path.join(artifacts_path, \"base_pipeline.pkl\")\n",
    "model_path = os.path.join(artifacts_path, \"best_model_pipeline.pkl\")"
   ]
  },
  {
   "cell_type": "code",
   "execution_count": 19,
   "metadata": {},
   "outputs": [
    {
     "name": "stdout",
     "output_type": "stream",
     "text": [
      "Datos cargados: X_train (1180, 19), y_train (1180, 1)\n"
     ]
    }
   ],
   "source": [
    "# Cargar Datos Procesados\n",
    "try:\n",
    "    X_train = pd.read_csv(os.path.join(data_processed_path, \"X_train.csv\"))\n",
    "    y_train = pd.read_csv(os.path.join(data_processed_path, \"y_train.csv\"))\n",
    "    X_test = pd.read_csv(os.path.join(data_processed_path, \"X_test.csv\"))\n",
    "    y_test = pd.read_csv(os.path.join(data_processed_path, \"y_test.csv\"))\n",
    "\n",
    "    print(f\"Datos cargados: X_train {X_train.shape}, y_train {y_train.shape}\")\n",
    "except FileNotFoundError as e:\n",
    "    raise FileNotFoundError(f\"Error al cargar los datos procesados: {e}\")\n"
   ]
  },
  {
   "cell_type": "markdown",
   "metadata": {},
   "source": [
    "# Entrenar modelo y seleccionar el mejor"
   ]
  },
  {
   "cell_type": "code",
   "execution_count": 20,
   "metadata": {},
   "outputs": [],
   "source": [
    "# Entrenar Modelos y Seleccionar el Mejor\n",
    "models_with_params = {\n",
    "    \"Logistic Regression\": LogisticRegression(random_state=42, max_iter=1000),\n",
    "    \"Decision Tree\": DecisionTreeClassifier(random_state=42),\n",
    "    \"Random Forest\": RandomForestClassifier(random_state=42),\n",
    "    \"SVC\": SVC(random_state=42, probability=True),\n",
    "    \"XGBoost\": XGBClassifier(random_state=42, eval_metric=\"logloss\")\n",
    "}"
   ]
  },
  {
   "cell_type": "code",
   "execution_count": 21,
   "metadata": {},
   "outputs": [],
   "source": [
    "best_model = None\n",
    "best_model_name = None\n",
    "best_f1_score = 0"
   ]
  },
  {
   "cell_type": "code",
   "execution_count": 22,
   "metadata": {},
   "outputs": [
    {
     "name": "stdout",
     "output_type": "stream",
     "text": [
      "\n",
      "Entrenando modelos y evaluando...\n",
      "\n",
      "Entrenando modelo: Logistic Regression\n",
      "F1-Score para Logistic Regression: 0.9175257731958762\n",
      "\n",
      "Entrenando modelo: Decision Tree\n",
      "F1-Score para Decision Tree: 0.8855721393034826\n",
      "\n",
      "Entrenando modelo: Random Forest\n",
      "F1-Score para Random Forest: 0.9319371727748691\n",
      "\n",
      "Entrenando modelo: SVC\n",
      "F1-Score para SVC: 0.9214659685863874\n",
      "\n",
      "Entrenando modelo: XGBoost\n",
      "F1-Score para XGBoost: 0.9230769230769231\n",
      "\n",
      "Mejor modelo: Random Forest con F1-Score: 0.9319371727748691\n"
     ]
    }
   ],
   "source": [
    "print(\"\\nEntrenando modelos y evaluando...\")\n",
    "for model_name, model in models_with_params.items():\n",
    "    print(f\"\\nEntrenando modelo: {model_name}\")\n",
    "    model.fit(X_train, y_train.values.ravel())\n",
    "    y_pred = model.predict(X_test)\n",
    "    f1 = f1_score(y_test, y_pred)\n",
    "    \n",
    "    print(f\"F1-Score para {model_name}: {f1}\")\n",
    "\n",
    "    if f1 > best_f1_score:\n",
    "        best_model = model\n",
    "        best_model_name = model_name\n",
    "        best_f1_score = f1\n",
    "\n",
    "print(f\"\\nMejor modelo: {best_model_name} con F1-Score: {best_f1_score}\")"
   ]
  },
  {
   "cell_type": "markdown",
   "metadata": {},
   "source": [
    "# Ajustar hiperparámetros"
   ]
  },
  {
   "cell_type": "code",
   "execution_count": 23,
   "metadata": {},
   "outputs": [
    {
     "name": "stdout",
     "output_type": "stream",
     "text": [
      "\n",
      "Ajustando hiperparámetros para Random Forest...\n",
      "Mejores parámetros encontrados:\n",
      "{'max_depth': 10, 'n_estimators': 50}\n"
     ]
    }
   ],
   "source": [
    "# Ajustar Hiperparámetros\n",
    "if best_model_name == \"Random Forest\":\n",
    "    print(\"\\nAjustando hiperparámetros para Random Forest...\")\n",
    "    param_grid = {\"n_estimators\": [50, 100, 200], \"max_depth\": [None, 10, 20]}\n",
    "    grid_search = GridSearchCV(best_model, param_grid, cv=3, scoring=\"f1\", n_jobs=-1)\n",
    "    grid_search.fit(X_train, y_train.values.ravel())\n",
    "    best_model = grid_search.best_estimator_\n",
    "\n",
    "    print(\"Mejores parámetros encontrados:\")\n",
    "    print(grid_search.best_params_)"
   ]
  },
  {
   "cell_type": "markdown",
   "metadata": {},
   "source": [
    "# Actualizar pipeline"
   ]
  },
  {
   "cell_type": "code",
   "execution_count": 24,
   "metadata": {},
   "outputs": [],
   "source": [
    "# Validar columnas del pipeline antes de ajustar\n",
    "def validate_pipeline_columns(pipeline, X):\n",
    "    updated_steps = []\n",
    "    for name, step in pipeline.steps:\n",
    "        if hasattr(step, 'features_to_drop'):\n",
    "            valid_features = [col for col in step.features_to_drop if col in X.columns]\n",
    "            if valid_features:\n",
    "                step.features_to_drop = valid_features\n",
    "                updated_steps.append((name, step))\n",
    "            else:\n",
    "                print(f\"El paso '{name}' fue eliminado porque no tiene columnas válidas.\")\n",
    "        else:\n",
    "            updated_steps.append((name, step))\n",
    "    return Pipeline(updated_steps)"
   ]
  },
  {
   "cell_type": "code",
   "execution_count": 25,
   "metadata": {},
   "outputs": [
    {
     "name": "stdout",
     "output_type": "stream",
     "text": [
      "\n",
      "Cargando pipeline base...\n",
      "El paso 'delete_features' fue eliminado porque no tiene columnas válidas.\n",
      "Modelo ganador agregado al pipeline.\n"
     ]
    }
   ],
   "source": [
    "# Cargar Pipeline Base y Validar\n",
    "print(\"\\nCargando pipeline base...\")\n",
    "with open(pipeline_path, \"rb\") as f:\n",
    "    pipeline = pickle.load(f)\n",
    "\n",
    "pipeline = validate_pipeline_columns(pipeline, X_train)\n",
    "pipeline.steps.append((\"best_model\", best_model))\n",
    "print(\"Modelo ganador agregado al pipeline.\")"
   ]
  },
  {
   "cell_type": "code",
   "execution_count": 26,
   "metadata": {},
   "outputs": [
    {
     "name": "stdout",
     "output_type": "stream",
     "text": [
      "\n",
      "Ajustando el pipeline completo...\n"
     ]
    }
   ],
   "source": [
    "# Ajustar el pipeline\n",
    "try:\n",
    "    print(\"\\nAjustando el pipeline completo...\")\n",
    "    pipeline.fit(X_train, y_train.values.ravel())\n",
    "except Exception as e:\n",
    "    raise ValueError(f\"Error al ajustar el pipeline completo: {e}\")\n",
    "\n"
   ]
  },
  {
   "cell_type": "markdown",
   "metadata": {},
   "source": [
    "# Guardar pipeline actualizado"
   ]
  },
  {
   "cell_type": "code",
   "execution_count": 27,
   "metadata": {},
   "outputs": [
    {
     "name": "stdout",
     "output_type": "stream",
     "text": [
      "\n",
      "Guardando el pipeline ajustado...\n"
     ]
    }
   ],
   "source": [
    "# Guardar Pipeline Ajustado\n",
    "print(\"\\nGuardando el pipeline ajustado...\")\n",
    "with open(model_path, \"wb\") as f:\n",
    "    pickle.dump(pipeline, f)"
   ]
  },
  {
   "cell_type": "markdown",
   "metadata": {},
   "source": [
    "# Evaluar pipeline"
   ]
  },
  {
   "cell_type": "code",
   "execution_count": 28,
   "metadata": {},
   "outputs": [
    {
     "name": "stdout",
     "output_type": "stream",
     "text": [
      "\n",
      "Evaluando el pipeline ajustado...\n",
      "\n",
      "F1-Score del pipeline ajustado: 0.9166666666666666\n",
      "\n",
      "Reporte de clasificación:\n",
      "              precision    recall  f1-score   support\n",
      "\n",
      "           0       0.95      0.97      0.96       197\n",
      "           1       0.95      0.89      0.92        99\n",
      "\n",
      "    accuracy                           0.95       296\n",
      "   macro avg       0.95      0.93      0.94       296\n",
      "weighted avg       0.95      0.95      0.95       296\n",
      "\n"
     ]
    }
   ],
   "source": [
    "# Evaluar el Pipeline Ajustado\n",
    "print(\"\\nEvaluando el pipeline ajustado...\")\n",
    "y_pred = pipeline.predict(X_test)\n",
    "f1 = f1_score(y_test, y_pred)\n",
    "print(f\"\\nF1-Score del pipeline ajustado: {f1}\")\n",
    "print(\"\\nReporte de clasificación:\")\n",
    "print(classification_report(y_test, y_pred))"
   ]
  }
 ],
 "metadata": {
  "kernelspec": {
   "display_name": "data_product_development",
   "language": "python",
   "name": "python3"
  },
  "language_info": {
   "codemirror_mode": {
    "name": "ipython",
    "version": 3
   },
   "file_extension": ".py",
   "mimetype": "text/x-python",
   "name": "python",
   "nbconvert_exporter": "python",
   "pygments_lexer": "ipython3",
   "version": "3.12.7"
  }
 },
 "nbformat": 4,
 "nbformat_minor": 2
}
