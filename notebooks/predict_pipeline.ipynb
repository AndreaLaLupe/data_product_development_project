{
 "cells": [
  {
   "cell_type": "markdown",
   "metadata": {},
   "source": [
    "# Librerías"
   ]
  },
  {
   "cell_type": "code",
   "execution_count": 11,
   "metadata": {},
   "outputs": [],
   "source": [
    "# Librerías\n",
    "import os\n",
    "import pandas as pd\n",
    "import pickle\n",
    "import mlflow\n",
    "from datetime import datetime"
   ]
  },
  {
   "cell_type": "markdown",
   "metadata": {},
   "source": [
    "# Configuración inicial"
   ]
  },
  {
   "cell_type": "code",
   "execution_count": 12,
   "metadata": {},
   "outputs": [],
   "source": [
    "# Configuración inicial\n",
    "PROJECT_PATH = os.path.abspath(os.path.join(os.getcwd(), \"..\"))  \n",
    "DATA_PROCESSED_PATH = os.path.join(PROJECT_PATH, \"data\", \"processed\")\n",
    "PREDICTIONS_PATH = os.path.join(PROJECT_PATH, \"data\", \"predictions\")\n",
    "ARTIFACTS_PATH = os.path.join(PROJECT_PATH, \"artifacts\")\n",
    "PIPELINE_PATH = os.path.join(ARTIFACTS_PATH, \"best_model_pipeline.pkl\")\n",
    "\n",
    "# Crear carpeta de predicciones si no existe\n",
    "os.makedirs(PREDICTIONS_PATH, exist_ok=True)"
   ]
  },
  {
   "cell_type": "markdown",
   "metadata": {},
   "source": [
    "# Cargar pipeline"
   ]
  },
  {
   "cell_type": "code",
   "execution_count": 13,
   "metadata": {},
   "outputs": [],
   "source": [
    "def cargar_pipeline(pipeline_path):\n",
    "    \"\"\"\n",
    "    Carga el pipeline entrenado desde un archivo .pkl.\n",
    "    \n",
    "    Args:\n",
    "        pipeline_path (str): Ruta del archivo del pipeline entrenado.\n",
    "    \n",
    "    Returns:\n",
    "        Pipeline: Objeto pipeline cargado.\n",
    "    \"\"\"\n",
    "    try:\n",
    "        with open(pipeline_path, \"rb\") as f:\n",
    "            pipeline = pickle.load(f)\n",
    "        print(\"Pipeline cargado correctamente.\")\n",
    "        return pipeline\n",
    "    except FileNotFoundError:\n",
    "        raise FileNotFoundError(f\"El archivo del pipeline no existe en: {pipeline_path}\")\n"
   ]
  },
  {
   "cell_type": "markdown",
   "metadata": {},
   "source": [
    "# Cargar datos"
   ]
  },
  {
   "cell_type": "code",
   "execution_count": 14,
   "metadata": {},
   "outputs": [],
   "source": [
    "def cargar_datos_prueba(data_path):\n",
    "    \"\"\"\n",
    "    Carga los datos de prueba desde la ruta especificada.\n",
    "    \n",
    "    Args:\n",
    "        data_path (str): Ruta de los datos procesados.\n",
    "    \n",
    "    Returns:\n",
    "        tuple: DataFrames de X_test e y_test.\n",
    "    \"\"\"\n",
    "    try:\n",
    "        X_test = pd.read_csv(os.path.join(data_path, \"X_test.csv\"))\n",
    "        y_test = pd.read_csv(os.path.join(data_path, \"y_test.csv\"))\n",
    "        print(f\"Datos de prueba cargados: X_test {X_test.shape}, y_test {y_test.shape}\")\n",
    "        return X_test, y_test\n",
    "    except FileNotFoundError as e:\n",
    "        raise FileNotFoundError(f\"Error al cargar los datos de prueba: {e}\")\n"
   ]
  },
  {
   "cell_type": "markdown",
   "metadata": {},
   "source": [
    "# Guardar las predicciones"
   ]
  },
  {
   "cell_type": "code",
   "execution_count": 15,
   "metadata": {},
   "outputs": [],
   "source": [
    "def guardar_predicciones(predictions, true_labels, output_path):\n",
    "    \"\"\"\n",
    "    Guarda las predicciones en un archivo CSV.\n",
    "    \n",
    "    Args:\n",
    "        predictions (array): Predicciones del modelo.\n",
    "        true_labels (array): Etiquetas verdaderas.\n",
    "        output_path (str): Ruta donde guardar el archivo CSV.\n",
    "    \"\"\"\n",
    "    timestamp = datetime.now().strftime(\"%Y-%m-%d-%H-%M-%S\")\n",
    "    file_name = f\"predictions_{timestamp}.csv\"\n",
    "    output_file = os.path.join(output_path, file_name)\n",
    "    \n",
    "    predictions_df = pd.DataFrame({\n",
    "        \"True_Label\": true_labels,\n",
    "        \"Predicted_Label\": predictions\n",
    "    })\n",
    "    \n",
    "    predictions_df.to_csv(output_file, index=False)\n",
    "    print(f\"Predicciones guardadas en: {output_file}\")\n",
    "    return output_file\n"
   ]
  },
  {
   "cell_type": "markdown",
   "metadata": {},
   "source": [
    "# Registrar en MLFlow"
   ]
  },
  {
   "cell_type": "code",
   "execution_count": 16,
   "metadata": {},
   "outputs": [],
   "source": [
    "def registrar_predicciones_mlflow(file_path):\n",
    "    \"\"\"\n",
    "    Registra las predicciones en MLflow.\n",
    "    \n",
    "    Args:\n",
    "        file_path (str): Ruta del archivo de predicciones.\n",
    "    \"\"\"\n",
    "    mlflow.set_tracking_uri(\"http://127.0.0.1:5000\") \n",
    "    mlflow.set_experiment(\"Predicciones_Modelo\")\n",
    "    \n",
    "    with mlflow.start_run():\n",
    "        mlflow.log_artifact(file_path, artifact_path=\"predictions\")\n",
    "        print(\"Predicciones registradas en MLflow.\")\n"
   ]
  },
  {
   "cell_type": "markdown",
   "metadata": {},
   "source": [
    "# Función principal"
   ]
  },
  {
   "cell_type": "code",
   "execution_count": 17,
   "metadata": {},
   "outputs": [],
   "source": [
    "def main():\n",
    "    \"\"\"\n",
    "    Función principal del script.\n",
    "    \"\"\"\n",
    "    print(\"Cargando el pipeline entrenado...\")\n",
    "    pipeline = cargar_pipeline(PIPELINE_PATH)\n",
    "    \n",
    "    print(\"\\nCargando datos de prueba...\")\n",
    "    X_test, y_test = cargar_datos_prueba(DATA_PROCESSED_PATH)\n",
    "    \n",
    "    print(\"\\nRealizando predicciones...\")\n",
    "    y_pred = pipeline.predict(X_test)\n",
    "    \n",
    "    print(\"\\nGuardando predicciones en archivo...\")\n",
    "    output_file = guardar_predicciones(y_pred, y_test.values.ravel(), PREDICTIONS_PATH)\n",
    "\n",
    "    \n",
    "    print(\"\\nRegistrando predicciones en MLflow...\")\n",
    "    registrar_predicciones_mlflow(output_file)\n",
    "    \n",
    "    print(\"\\nProceso completado con éxito.\")\n"
   ]
  },
  {
   "cell_type": "code",
   "execution_count": 18,
   "metadata": {},
   "outputs": [
    {
     "name": "stderr",
     "output_type": "stream",
     "text": [
      "2024/12/08 18:39:30 INFO mlflow.tracking.fluent: Experiment with name 'Predicciones_Modelo' does not exist. Creating a new experiment.\n"
     ]
    },
    {
     "name": "stdout",
     "output_type": "stream",
     "text": [
      "Cargando el pipeline entrenado...\n",
      "Pipeline cargado correctamente.\n",
      "\n",
      "Cargando datos de prueba...\n",
      "Datos de prueba cargados: X_test (296, 19), y_test (296, 1)\n",
      "\n",
      "Realizando predicciones...\n",
      "\n",
      "Guardando predicciones en archivo...\n",
      "Predicciones guardadas en: c:\\Users\\hp i7\\Documents\\Mini_Proyecto_2\\data\\predictions\\predictions_2024-12-08-18-39-29.csv\n",
      "\n",
      "Registrando predicciones en MLflow...\n",
      "Predicciones registradas en MLflow.\n",
      "🏃 View run capable-stoat-91 at: http://127.0.0.1:5000/#/experiments/832074060376064150/runs/5de914267f0d4b708120612db480e0b6\n",
      "🧪 View experiment at: http://127.0.0.1:5000/#/experiments/832074060376064150\n",
      "\n",
      "Proceso completado con éxito.\n"
     ]
    }
   ],
   "source": [
    "if __name__ == \"__main__\":\n",
    "    main()\n"
   ]
  }
 ],
 "metadata": {
  "kernelspec": {
   "display_name": "data_product_development",
   "language": "python",
   "name": "python3"
  },
  "language_info": {
   "codemirror_mode": {
    "name": "ipython",
    "version": 3
   },
   "file_extension": ".py",
   "mimetype": "text/x-python",
   "name": "python",
   "nbconvert_exporter": "python",
   "pygments_lexer": "ipython3",
   "version": "3.12.7"
  }
 },
 "nbformat": 4,
 "nbformat_minor": 2
}
