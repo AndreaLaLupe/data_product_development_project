{
 "cells": [
  {
   "cell_type": "markdown",
   "metadata": {},
   "source": [
    "# Librerías"
   ]
  },
  {
   "cell_type": "code",
   "execution_count": 41,
   "metadata": {},
   "outputs": [],
   "source": [
    "# Librerías\n",
    "import os\n",
    "import pandas as pd\n",
    "import pickle\n",
    "import mlflow\n",
    "import json\n",
    "from datetime import datetime"
   ]
  },
  {
   "cell_type": "markdown",
   "metadata": {},
   "source": [
    "# Configuración inicial"
   ]
  },
  {
   "cell_type": "code",
   "execution_count": 42,
   "metadata": {},
   "outputs": [],
   "source": [
    "# Configuración inicial\n",
    "PROJECT_PATH = os.path.abspath(os.path.join(os.getcwd(), \"..\"))\n",
    "DATA_PROCESSED_PATH = os.path.join(PROJECT_PATH, \"data\", \"processed\")\n",
    "PREDICTIONS_PATH = os.path.join(PROJECT_PATH, \"data\", \"predictions\")\n",
    "ARTIFACTS_PATH = os.path.join(PROJECT_PATH, \"artifacts\")\n",
    "PIPELINE_PATH = os.path.join(ARTIFACTS_PATH, \"best_model_pipeline.pkl\")\n",
    "MODEL_RESULTS_PATH = os.path.join(ARTIFACTS_PATH, \"model_results.json\")\n",
    "\n",
    "# Crear carpeta de predicciones si no existe\n",
    "os.makedirs(PREDICTIONS_PATH, exist_ok=True)"
   ]
  },
  {
   "cell_type": "markdown",
   "metadata": {},
   "source": [
    "# Cargar pipeline"
   ]
  },
  {
   "cell_type": "code",
   "execution_count": 43,
   "metadata": {},
   "outputs": [],
   "source": [
    "def cargar_pipeline(pipeline_path):\n",
    "    \"\"\"\n",
    "    Carga el pipeline entrenado desde un archivo .pkl.\n",
    "    \n",
    "    Args:\n",
    "        pipeline_path (str): Ruta del archivo del pipeline entrenado.\n",
    "    \n",
    "    Returns:\n",
    "        Pipeline: Objeto pipeline cargado.\n",
    "    \"\"\"\n",
    "    try:\n",
    "        with open(pipeline_path, \"rb\") as f:\n",
    "            pipeline = pickle.load(f)\n",
    "        print(\"Pipeline cargado correctamente.\")\n",
    "        return pipeline\n",
    "    except FileNotFoundError:\n",
    "        raise FileNotFoundError(f\"El archivo del pipeline no existe en: {pipeline_path}\")\n"
   ]
  },
  {
   "cell_type": "markdown",
   "metadata": {},
   "source": [
    "# Cargar datos"
   ]
  },
  {
   "cell_type": "code",
   "execution_count": 44,
   "metadata": {},
   "outputs": [],
   "source": [
    "def cargar_datos_prueba(data_path):\n",
    "    \"\"\"\n",
    "    Carga los datos de prueba desde la ruta especificada.\n",
    "    \n",
    "    Args:\n",
    "        data_path (str): Ruta de los datos procesados.\n",
    "    \n",
    "    Returns:\n",
    "        tuple: DataFrames de X_test e y_test.\n",
    "    \"\"\"\n",
    "    try:\n",
    "        X_test = pd.read_csv(os.path.join(data_path, \"X_test.csv\"))\n",
    "        y_test = pd.read_csv(os.path.join(data_path, \"y_test.csv\"))\n",
    "        print(f\"Datos de prueba cargados: X_test {X_test.shape}, y_test {y_test.shape}\")\n",
    "        return X_test, y_test\n",
    "    except FileNotFoundError as e:\n",
    "        raise FileNotFoundError(f\"Error al cargar los datos de prueba: {e}\")\n"
   ]
  },
  {
   "cell_type": "markdown",
   "metadata": {},
   "source": [
    "# Guardar las predicciones"
   ]
  },
  {
   "cell_type": "code",
   "execution_count": 45,
   "metadata": {},
   "outputs": [],
   "source": [
    "def guardar_predicciones(predictions, true_labels, output_path):\n",
    "    \"\"\"\n",
    "    Guarda las predicciones en un archivo CSV.\n",
    "    \n",
    "    Args:\n",
    "        predictions (array): Predicciones del modelo.\n",
    "        true_labels (array): Etiquetas verdaderas.\n",
    "        output_path (str): Ruta donde guardar el archivo CSV.\n",
    "    \"\"\"\n",
    "    timestamp = datetime.now().strftime(\"%Y-%m-%d-%H-%M-%S\")\n",
    "    file_name = f\"predictions_{timestamp}.csv\"\n",
    "    output_file = os.path.join(output_path, file_name)\n",
    "    \n",
    "    predictions_df = pd.DataFrame({\n",
    "        \"True_Label\": true_labels,\n",
    "        \"Predicted_Label\": predictions\n",
    "    })\n",
    "    \n",
    "    predictions_df.to_csv(output_file, index=False)\n",
    "    print(f\"Predicciones guardadas en: {output_file}\")\n",
    "    return output_file\n"
   ]
  },
  {
   "cell_type": "markdown",
   "metadata": {},
   "source": [
    "# Registrar en MLFlow"
   ]
  },
  {
   "cell_type": "code",
   "execution_count": 46,
   "metadata": {},
   "outputs": [],
   "source": [
    "def registrar_predicciones_mlflow(file_path):\n",
    "    \"\"\"\n",
    "    Registra las predicciones en MLflow.\n",
    "    \n",
    "    Args:\n",
    "        file_path (str): Ruta del archivo de predicciones.\n",
    "    \"\"\"\n",
    "    mlflow.set_tracking_uri(\"http://127.0.0.1:5000\") \n",
    "    mlflow.set_experiment(\"Predicciones_Modelo\")\n",
    "    \n",
    "    with mlflow.start_run():\n",
    "        mlflow.log_artifact(file_path, artifact_path=\"predictions\")\n",
    "        print(\"Predicciones registradas en MLflow.\")\n"
   ]
  },
  {
   "cell_type": "markdown",
   "metadata": {},
   "source": [
    "# Registrar los Modelos"
   ]
  },
  {
   "cell_type": "code",
   "execution_count": 47,
   "metadata": {},
   "outputs": [],
   "source": [
    "def registrar_modelos_mlflow(results_path):\n",
    "    \"\"\"\n",
    "    Registra los resultados de los modelos entrenados en MLflow.\n",
    "\n",
    "    Args:\n",
    "        results_path (str): Ruta del archivo JSON con los resultados de los modelos.\n",
    "    \"\"\"\n",
    "    if not os.path.exists(results_path):\n",
    "        raise FileNotFoundError(f\"El archivo de resultados no existe en: {results_path}\")\n",
    "\n",
    "    with open(results_path, \"r\", encoding=\"utf-8\") as file:\n",
    "        results = json.load(file)\n",
    "\n",
    "    mlflow.set_tracking_uri(\"http://127.0.0.1:5000\")\n",
    "    mlflow.set_experiment(\"Resultados_Modelos\")\n",
    "\n",
    "    for model_name, model_data in results.items():\n",
    "        with mlflow.start_run(run_name=model_name):\n",
    "            # Log de métricas\n",
    "            mlflow.log_metric(\"f1_score\", model_data[\"f1_score\"])\n",
    "\n",
    "            # Log de hiperparámetros\n",
    "            if model_data[\"hyperparameters\"]:\n",
    "                for param, value in model_data[\"hyperparameters\"].items():\n",
    "                    mlflow.log_param(param, value)\n",
    "\n",
    "            # Log del modelo\n",
    "            model_path = model_data[\"model_path\"]\n",
    "            mlflow.log_artifact(model_path, artifact_path=\"modelos\")\n",
    "            print(f\"Modelo {model_name} registrado en MLflow.\")"
   ]
  },
  {
   "cell_type": "markdown",
   "metadata": {},
   "source": [
    "# Función principal"
   ]
  },
  {
   "cell_type": "code",
   "execution_count": 48,
   "metadata": {},
   "outputs": [],
   "source": [
    "# Función Principal\n",
    "def main():\n",
    "    \"\"\"\n",
    "    Función principal del script.\n",
    "    \"\"\"\n",
    "    # Registrar modelos en MLflow\n",
    "    print(\"\\nRegistrando modelos en MLflow...\")\n",
    "    registrar_modelos_mlflow(MODEL_RESULTS_PATH)\n",
    "\n",
    "    # Cargar pipeline entrenado\n",
    "    print(\"\\nCargando el pipeline entrenado...\")\n",
    "    pipeline = cargar_pipeline(PIPELINE_PATH)\n",
    "\n",
    "    # Cargar datos de prueba\n",
    "    print(\"\\nCargando datos de prueba...\")\n",
    "    x_test, y_test = cargar_datos_prueba(DATA_PROCESSED_PATH)\n",
    "\n",
    "    # Realizar predicciones\n",
    "    print(\"\\nRealizando predicciones...\")\n",
    "    y_pred = pipeline.predict(x_test)\n",
    "\n",
    "    # Guardar predicciones\n",
    "    print(\"\\nGuardando predicciones en archivo...\")\n",
    "    output_file = guardar_predicciones(y_pred, y_test.values.ravel(), PREDICTIONS_PATH)\n",
    "\n",
    "    # Registrar predicciones en MLflow\n",
    "    print(\"\\nRegistrando predicciones en MLflow...\")\n",
    "    registrar_predicciones_mlflow(output_file)\n",
    "\n",
    "    print(\"\\nProceso completado con éxito.\")\n"
   ]
  },
  {
   "cell_type": "code",
   "execution_count": 49,
   "metadata": {},
   "outputs": [
    {
     "name": "stdout",
     "output_type": "stream",
     "text": [
      "\n",
      "Registrando modelos en MLflow...\n"
     ]
    },
    {
     "name": "stderr",
     "output_type": "stream",
     "text": [
      "2024/12/10 13:26:42 INFO mlflow.tracking.fluent: Experiment with name 'Resultados_Modelos' does not exist. Creating a new experiment.\n"
     ]
    },
    {
     "name": "stdout",
     "output_type": "stream",
     "text": [
      "Modelo Logistic Regression registrado en MLflow.\n",
      "🏃 View run Logistic Regression at: http://127.0.0.1:5000/#/experiments/339977424329165112/runs/f8cb4d58201a4c21af3a2530d87c48d8\n",
      "🧪 View experiment at: http://127.0.0.1:5000/#/experiments/339977424329165112\n",
      "Modelo Decision Tree registrado en MLflow.\n",
      "🏃 View run Decision Tree at: http://127.0.0.1:5000/#/experiments/339977424329165112/runs/f8dbc03885de4fee8dc8ddf1de9e05f0\n",
      "🧪 View experiment at: http://127.0.0.1:5000/#/experiments/339977424329165112\n",
      "Modelo Random Forest registrado en MLflow.\n",
      "🏃 View run Random Forest at: http://127.0.0.1:5000/#/experiments/339977424329165112/runs/527e301a2e41458ba577945828830291\n",
      "🧪 View experiment at: http://127.0.0.1:5000/#/experiments/339977424329165112\n",
      "Modelo SVC registrado en MLflow.\n",
      "🏃 View run SVC at: http://127.0.0.1:5000/#/experiments/339977424329165112/runs/2580d6217e5b4c26badb3dfc051e3abc\n",
      "🧪 View experiment at: http://127.0.0.1:5000/#/experiments/339977424329165112\n",
      "Modelo XGBoost registrado en MLflow.\n",
      "🏃 View run XGBoost at: http://127.0.0.1:5000/#/experiments/339977424329165112/runs/40fc2445252644e79718b5c730e91873\n",
      "🧪 View experiment at: http://127.0.0.1:5000/#/experiments/339977424329165112\n",
      "\n",
      "Cargando el pipeline entrenado...\n",
      "Pipeline cargado correctamente.\n",
      "\n",
      "Cargando datos de prueba...\n",
      "Datos de prueba cargados: X_test (296, 19), y_test (296, 1)\n",
      "\n",
      "Realizando predicciones...\n",
      "\n",
      "Guardando predicciones en archivo...\n",
      "Predicciones guardadas en: c:\\Users\\hp i7\\Documents\\Mini_Proyecto_2\\data\\predictions\\predictions_2024-12-10-13-26-44.csv\n",
      "\n",
      "Registrando predicciones en MLflow...\n",
      "Predicciones registradas en MLflow.\n",
      "🏃 View run indecisive-hare-149 at: http://127.0.0.1:5000/#/experiments/832074060376064150/runs/d71afc038219477584be5f5251a5fa9f\n",
      "🧪 View experiment at: http://127.0.0.1:5000/#/experiments/832074060376064150\n",
      "\n",
      "Proceso completado con éxito.\n"
     ]
    }
   ],
   "source": [
    "if __name__ == \"__main__\":\n",
    "    main()\n"
   ]
  }
 ],
 "metadata": {
  "kernelspec": {
   "display_name": "data_product_development",
   "language": "python",
   "name": "python3"
  },
  "language_info": {
   "codemirror_mode": {
    "name": "ipython",
    "version": 3
   },
   "file_extension": ".py",
   "mimetype": "text/x-python",
   "name": "python",
   "nbconvert_exporter": "python",
   "pygments_lexer": "ipython3",
   "version": "3.12.7"
  }
 },
 "nbformat": 4,
 "nbformat_minor": 2
}
