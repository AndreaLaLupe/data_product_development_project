{
 "cells": [
  {
   "cell_type": "markdown",
   "metadata": {},
   "source": [
    "# Librerías"
   ]
  },
  {
   "cell_type": "code",
   "execution_count": 20,
   "metadata": {},
   "outputs": [],
   "source": [
    "# Importar librerías\n",
    "import pandas as pd\n",
    "import numpy as np\n",
    "import configparser\n",
    "from sklearn.model_selection import train_test_split\n",
    "from sklearn.preprocessing import StandardScaler\n",
    "from collections import Counter\n",
    "import os"
   ]
  },
  {
   "cell_type": "markdown",
   "metadata": {},
   "source": [
    "# Cargar y Validar los Datos"
   ]
  },
  {
   "cell_type": "code",
   "execution_count": 21,
   "metadata": {},
   "outputs": [],
   "source": [
    "# Cargar datos procesados\n",
    "file_path = '../data/interim/creditcard_balanced.csv' \n",
    "data = pd.read_csv(file_path)"
   ]
  },
  {
   "cell_type": "code",
   "execution_count": 22,
   "metadata": {},
   "outputs": [
    {
     "name": "stdout",
     "output_type": "stream",
     "text": [
      "Dimensiones del dataset: (1476, 31)\n",
      "Primeras filas del dataset:\n"
     ]
    },
    {
     "data": {
      "text/html": [
       "<div>\n",
       "<style scoped>\n",
       "    .dataframe tbody tr th:only-of-type {\n",
       "        vertical-align: middle;\n",
       "    }\n",
       "\n",
       "    .dataframe tbody tr th {\n",
       "        vertical-align: top;\n",
       "    }\n",
       "\n",
       "    .dataframe thead th {\n",
       "        text-align: right;\n",
       "    }\n",
       "</style>\n",
       "<table border=\"1\" class=\"dataframe\">\n",
       "  <thead>\n",
       "    <tr style=\"text-align: right;\">\n",
       "      <th></th>\n",
       "      <th>Time</th>\n",
       "      <th>V1</th>\n",
       "      <th>V2</th>\n",
       "      <th>V3</th>\n",
       "      <th>V4</th>\n",
       "      <th>V5</th>\n",
       "      <th>V6</th>\n",
       "      <th>V7</th>\n",
       "      <th>V8</th>\n",
       "      <th>V9</th>\n",
       "      <th>...</th>\n",
       "      <th>V21</th>\n",
       "      <th>V22</th>\n",
       "      <th>V23</th>\n",
       "      <th>V24</th>\n",
       "      <th>V25</th>\n",
       "      <th>V26</th>\n",
       "      <th>V27</th>\n",
       "      <th>V28</th>\n",
       "      <th>Amount</th>\n",
       "      <th>Class</th>\n",
       "    </tr>\n",
       "  </thead>\n",
       "  <tbody>\n",
       "    <tr>\n",
       "      <th>0</th>\n",
       "      <td>19556.0</td>\n",
       "      <td>-1.567497</td>\n",
       "      <td>0.169245</td>\n",
       "      <td>2.371525</td>\n",
       "      <td>-1.774840</td>\n",
       "      <td>0.003882</td>\n",
       "      <td>-0.491739</td>\n",
       "      <td>-0.072480</td>\n",
       "      <td>-0.006021</td>\n",
       "      <td>2.687300</td>\n",
       "      <td>...</td>\n",
       "      <td>-0.061490</td>\n",
       "      <td>0.154483</td>\n",
       "      <td>-0.316773</td>\n",
       "      <td>0.035385</td>\n",
       "      <td>0.425683</td>\n",
       "      <td>-0.857536</td>\n",
       "      <td>-0.358959</td>\n",
       "      <td>0.251124</td>\n",
       "      <td>11.85</td>\n",
       "      <td>0</td>\n",
       "    </tr>\n",
       "    <tr>\n",
       "      <th>1</th>\n",
       "      <td>68207.0</td>\n",
       "      <td>-13.192671</td>\n",
       "      <td>12.785971</td>\n",
       "      <td>-9.906650</td>\n",
       "      <td>3.320337</td>\n",
       "      <td>-4.801176</td>\n",
       "      <td>5.760059</td>\n",
       "      <td>-18.750889</td>\n",
       "      <td>-37.353443</td>\n",
       "      <td>-0.391540</td>\n",
       "      <td>...</td>\n",
       "      <td>27.202839</td>\n",
       "      <td>-8.887017</td>\n",
       "      <td>5.303607</td>\n",
       "      <td>-0.639435</td>\n",
       "      <td>0.263203</td>\n",
       "      <td>-0.108877</td>\n",
       "      <td>1.269566</td>\n",
       "      <td>0.939407</td>\n",
       "      <td>1.00</td>\n",
       "      <td>1</td>\n",
       "    </tr>\n",
       "    <tr>\n",
       "      <th>2</th>\n",
       "      <td>93856.0</td>\n",
       "      <td>-6.750509</td>\n",
       "      <td>5.367416</td>\n",
       "      <td>-10.054635</td>\n",
       "      <td>9.064478</td>\n",
       "      <td>-7.968118</td>\n",
       "      <td>-2.263798</td>\n",
       "      <td>-10.317566</td>\n",
       "      <td>4.237666</td>\n",
       "      <td>-5.324109</td>\n",
       "      <td>...</td>\n",
       "      <td>1.909032</td>\n",
       "      <td>-0.348740</td>\n",
       "      <td>0.425001</td>\n",
       "      <td>0.674909</td>\n",
       "      <td>-0.784208</td>\n",
       "      <td>-0.247422</td>\n",
       "      <td>1.159581</td>\n",
       "      <td>0.197818</td>\n",
       "      <td>209.65</td>\n",
       "      <td>1</td>\n",
       "    </tr>\n",
       "    <tr>\n",
       "      <th>3</th>\n",
       "      <td>42181.0</td>\n",
       "      <td>-2.714728</td>\n",
       "      <td>-2.550618</td>\n",
       "      <td>3.023638</td>\n",
       "      <td>0.401269</td>\n",
       "      <td>2.274544</td>\n",
       "      <td>-1.215843</td>\n",
       "      <td>-1.732610</td>\n",
       "      <td>0.561313</td>\n",
       "      <td>1.009438</td>\n",
       "      <td>...</td>\n",
       "      <td>0.063049</td>\n",
       "      <td>-0.309606</td>\n",
       "      <td>0.345098</td>\n",
       "      <td>0.061864</td>\n",
       "      <td>0.100496</td>\n",
       "      <td>0.308751</td>\n",
       "      <td>-0.213160</td>\n",
       "      <td>-0.112034</td>\n",
       "      <td>0.76</td>\n",
       "      <td>0</td>\n",
       "    </tr>\n",
       "    <tr>\n",
       "      <th>4</th>\n",
       "      <td>102671.0</td>\n",
       "      <td>-4.991758</td>\n",
       "      <td>5.213340</td>\n",
       "      <td>-9.111326</td>\n",
       "      <td>8.431986</td>\n",
       "      <td>-3.435516</td>\n",
       "      <td>-1.827565</td>\n",
       "      <td>-7.114303</td>\n",
       "      <td>3.431207</td>\n",
       "      <td>-3.875643</td>\n",
       "      <td>...</td>\n",
       "      <td>1.189423</td>\n",
       "      <td>0.247858</td>\n",
       "      <td>0.294448</td>\n",
       "      <td>-0.548504</td>\n",
       "      <td>-0.174617</td>\n",
       "      <td>0.406703</td>\n",
       "      <td>-0.402339</td>\n",
       "      <td>-0.882886</td>\n",
       "      <td>0.00</td>\n",
       "      <td>1</td>\n",
       "    </tr>\n",
       "  </tbody>\n",
       "</table>\n",
       "<p>5 rows × 31 columns</p>\n",
       "</div>"
      ],
      "text/plain": [
       "       Time         V1         V2         V3        V4        V5        V6  \\\n",
       "0   19556.0  -1.567497   0.169245   2.371525 -1.774840  0.003882 -0.491739   \n",
       "1   68207.0 -13.192671  12.785971  -9.906650  3.320337 -4.801176  5.760059   \n",
       "2   93856.0  -6.750509   5.367416 -10.054635  9.064478 -7.968118 -2.263798   \n",
       "3   42181.0  -2.714728  -2.550618   3.023638  0.401269  2.274544 -1.215843   \n",
       "4  102671.0  -4.991758   5.213340  -9.111326  8.431986 -3.435516 -1.827565   \n",
       "\n",
       "          V7         V8        V9  ...        V21       V22       V23  \\\n",
       "0  -0.072480  -0.006021  2.687300  ...  -0.061490  0.154483 -0.316773   \n",
       "1 -18.750889 -37.353443 -0.391540  ...  27.202839 -8.887017  5.303607   \n",
       "2 -10.317566   4.237666 -5.324109  ...   1.909032 -0.348740  0.425001   \n",
       "3  -1.732610   0.561313  1.009438  ...   0.063049 -0.309606  0.345098   \n",
       "4  -7.114303   3.431207 -3.875643  ...   1.189423  0.247858  0.294448   \n",
       "\n",
       "        V24       V25       V26       V27       V28  Amount  Class  \n",
       "0  0.035385  0.425683 -0.857536 -0.358959  0.251124   11.85      0  \n",
       "1 -0.639435  0.263203 -0.108877  1.269566  0.939407    1.00      1  \n",
       "2  0.674909 -0.784208 -0.247422  1.159581  0.197818  209.65      1  \n",
       "3  0.061864  0.100496  0.308751 -0.213160 -0.112034    0.76      0  \n",
       "4 -0.548504 -0.174617  0.406703 -0.402339 -0.882886    0.00      1  \n",
       "\n",
       "[5 rows x 31 columns]"
      ]
     },
     "metadata": {},
     "output_type": "display_data"
    }
   ],
   "source": [
    "# Inspección inicial\n",
    "print(\"Dimensiones del dataset:\", data.shape)\n",
    "print(\"Primeras filas del dataset:\")\n",
    "display(data.head())"
   ]
  },
  {
   "cell_type": "code",
   "execution_count": 23,
   "metadata": {},
   "outputs": [
    {
     "name": "stdout",
     "output_type": "stream",
     "text": [
      "Distribución de la variable objetivo (Class):\n",
      "Class\n",
      "0    0.666667\n",
      "1    0.333333\n",
      "Name: proportion, dtype: float64\n"
     ]
    }
   ],
   "source": [
    "print(\"Distribución de la variable objetivo (Class):\")\n",
    "if 'Class' in data.columns:\n",
    "    print(data['Class'].value_counts(normalize=True))\n",
    "else:\n",
    "    print(\"La columna 'Class' no está presente en los datos.\")"
   ]
  },
  {
   "cell_type": "markdown",
   "metadata": {},
   "source": [
    "# Manejo de Valores Faltantes"
   ]
  },
  {
   "cell_type": "code",
   "execution_count": 24,
   "metadata": {},
   "outputs": [
    {
     "name": "stdout",
     "output_type": "stream",
     "text": [
      "\n",
      "Valores faltantes por columna:\n",
      "Series([], dtype: int64)\n"
     ]
    }
   ],
   "source": [
    "# Verificar valores faltantes\n",
    "print(\"\\nValores faltantes por columna:\")\n",
    "missing_values = data.isnull().sum()\n",
    "print(missing_values[missing_values > 0])"
   ]
  },
  {
   "cell_type": "code",
   "execution_count": 25,
   "metadata": {},
   "outputs": [
    {
     "name": "stdout",
     "output_type": "stream",
     "text": [
      "\n",
      "Porcentaje de valores faltantes por columna:\n",
      "Series([], dtype: float64)\n"
     ]
    }
   ],
   "source": [
    "# Porcentaje de valores faltantes\n",
    "print(\"\\nPorcentaje de valores faltantes por columna:\")\n",
    "missing_percentage = (missing_values / len(data)) * 100\n",
    "print(missing_percentage[missing_percentage > 0])"
   ]
  },
  {
   "cell_type": "code",
   "execution_count": 26,
   "metadata": {},
   "outputs": [
    {
     "name": "stdout",
     "output_type": "stream",
     "text": [
      "No se encontraron valores faltantes.\n"
     ]
    }
   ],
   "source": [
    "if missing_values.sum() > 0:\n",
    "    data.fillna(data.mean(), inplace=True)\n",
    "    print(\"\\nSe imputaron valores faltantes con la media.\")\n",
    "else:\n",
    "    print(\"No se encontraron valores faltantes.\")"
   ]
  },
  {
   "cell_type": "markdown",
   "metadata": {},
   "source": [
    "# Identificación de tipos de variables"
   ]
  },
  {
   "cell_type": "code",
   "execution_count": 27,
   "metadata": {},
   "outputs": [
    {
     "name": "stdout",
     "output_type": "stream",
     "text": [
      "\n",
      "Columnas categóricas identificadas: []\n"
     ]
    }
   ],
   "source": [
    "# Identificar características categóricas\n",
    "categorical_cols = data.select_dtypes(include=['object', 'category']).columns.tolist()\n",
    "print(\"\\nColumnas categóricas identificadas:\", categorical_cols)\n"
   ]
  },
  {
   "cell_type": "code",
   "execution_count": 28,
   "metadata": {},
   "outputs": [
    {
     "name": "stdout",
     "output_type": "stream",
     "text": [
      "\n",
      "Columnas numéricas identificadas: ['Time', 'V1', 'V2', 'V3', 'V4', 'V5', 'V6', 'V7', 'V8', 'V9', 'V10', 'V11', 'V12', 'V13', 'V14', 'V15', 'V16', 'V17', 'V18', 'V19', 'V20', 'V21', 'V22', 'V23', 'V24', 'V25', 'V26', 'V27', 'V28', 'Amount', 'Class']\n"
     ]
    }
   ],
   "source": [
    "# Identificar características numéricas\n",
    "numeric_cols = data.select_dtypes(include=np.number).columns.tolist()\n",
    "print(\"\\nColumnas numéricas identificadas:\", numeric_cols)"
   ]
  },
  {
   "cell_type": "markdown",
   "metadata": {},
   "source": [
    "# Generar archivo de configuración"
   ]
  },
  {
   "cell_type": "code",
   "execution_count": 29,
   "metadata": {},
   "outputs": [],
   "source": [
    "def generate_config(data, target_column, output_path):\n",
    "    \"\"\"\n",
    "    Genera un archivo de configuración basado en el análisis del dataset.\n",
    "\n",
    "    Args:\n",
    "        data (pd.DataFrame): Dataset procesado.\n",
    "        target_column (str): Nombre de la columna objetivo.\n",
    "        output_path (str): Ruta donde se guardará el archivo de configuración.\n",
    "    \"\"\"\n",
    "    config = configparser.ConfigParser()\n",
    "\n",
    "    # [GENERAL]\n",
    "    redundant_features = []\n",
    "    correlation_matrix = data.corr()\n",
    "    for col in correlation_matrix.columns:\n",
    "        high_corr = correlation_matrix[col][correlation_matrix[col] > 0.8].index.drop(col)\n",
    "        if len(high_corr) > 0:\n",
    "            redundant_features.append(col)\n",
    "    config['GENERAL'] = {\n",
    "        'VARS_TO_DROP': ', '.join(redundant_features),\n",
    "        'TARGET': target_column\n",
    "    }\n",
    "\n",
    "    # [CONTINUES]\n",
    "    vars_to_impute_continues = [col for col in numeric_cols if data[col].isnull().sum() > 0]\n",
    "    config['CONTINUES'] = {\n",
    "        'VARS_TO_IMPUTE': ', '.join(vars_to_impute_continues)\n",
    "    }\n",
    "\n",
    "    # [CATEGORICAL]\n",
    "    vars_to_impute_categorical = [col for col in categorical_cols if data[col].isnull().sum() > 0]\n",
    "    ohe_vars = [col for col in categorical_cols if data[col].nunique() <= 10]\n",
    "    freq_enc_vars = [col for col in categorical_cols if data[col].nunique() > 10]\n",
    "\n",
    "    config['CATEGORICAL'] = {\n",
    "        'VARS_TO_IMPUTE': ', '.join(vars_to_impute_categorical),\n",
    "        'OHE_VARS': ', '.join(ohe_vars),\n",
    "        'FREQUENCY_ENC_VARS': ', '.join(freq_enc_vars)\n",
    "    }\n",
    "\n",
    "    with open(output_path, 'w') as configfile:\n",
    "        config.write(configfile)\n",
    "\n",
    "    print(f\"Archivo de configuración generado en: {output_path}\")"
   ]
  },
  {
   "cell_type": "code",
   "execution_count": 30,
   "metadata": {},
   "outputs": [
    {
     "name": "stdout",
     "output_type": "stream",
     "text": [
      "Archivo de configuración generado en: ../pipeline.cfg\n"
     ]
    }
   ],
   "source": [
    "config_path = '../pipeline.cfg'\n",
    "generate_config(data, target_column='Class', output_path=config_path)"
   ]
  }
 ],
 "metadata": {
  "kernelspec": {
   "display_name": "data_product_development",
   "language": "python",
   "name": "python3"
  },
  "language_info": {
   "codemirror_mode": {
    "name": "ipython",
    "version": 3
   },
   "file_extension": ".py",
   "mimetype": "text/x-python",
   "name": "python",
   "nbconvert_exporter": "python",
   "pygments_lexer": "ipython3",
   "version": "3.12.7"
  }
 },
 "nbformat": 4,
 "nbformat_minor": 2
}
