{
 "cells": [
  {
   "cell_type": "code",
   "execution_count": null,
   "metadata": {},
   "outputs": [],
   "source": [
    "# Importar librerías\n",
    "import pandas as pd\n",
    "import numpy as np\n",
    "from sklearn.model_selection import train_test_split\n",
    "from sklearn.preprocessing import StandardScaler\n",
    "from collections import Counter\n",
    "import joblib"
   ]
  },
  {
   "cell_type": "markdown",
   "metadata": {},
   "source": [
    "# Cargar y Validar los Datos"
   ]
  },
  {
   "cell_type": "code",
   "execution_count": 24,
   "metadata": {},
   "outputs": [],
   "source": [
    "# Cargar datos procesados\n",
    "file_path = '../data/interim/creditcard_balanced.csv' \n",
    "data = pd.read_csv(file_path)"
   ]
  },
  {
   "cell_type": "code",
   "execution_count": 25,
   "metadata": {},
   "outputs": [
    {
     "name": "stdout",
     "output_type": "stream",
     "text": [
      "Dimensiones del dataset: (568630, 31)\n",
      "Primeras filas del dataset:\n"
     ]
    },
    {
     "data": {
      "text/html": [
       "<div>\n",
       "<style scoped>\n",
       "    .dataframe tbody tr th:only-of-type {\n",
       "        vertical-align: middle;\n",
       "    }\n",
       "\n",
       "    .dataframe tbody tr th {\n",
       "        vertical-align: top;\n",
       "    }\n",
       "\n",
       "    .dataframe thead th {\n",
       "        text-align: right;\n",
       "    }\n",
       "</style>\n",
       "<table border=\"1\" class=\"dataframe\">\n",
       "  <thead>\n",
       "    <tr style=\"text-align: right;\">\n",
       "      <th></th>\n",
       "      <th>Time</th>\n",
       "      <th>V1</th>\n",
       "      <th>V2</th>\n",
       "      <th>V3</th>\n",
       "      <th>V4</th>\n",
       "      <th>V5</th>\n",
       "      <th>V6</th>\n",
       "      <th>V7</th>\n",
       "      <th>V8</th>\n",
       "      <th>V9</th>\n",
       "      <th>...</th>\n",
       "      <th>V21</th>\n",
       "      <th>V22</th>\n",
       "      <th>V23</th>\n",
       "      <th>V24</th>\n",
       "      <th>V25</th>\n",
       "      <th>V26</th>\n",
       "      <th>V27</th>\n",
       "      <th>V28</th>\n",
       "      <th>Amount</th>\n",
       "      <th>Class</th>\n",
       "    </tr>\n",
       "  </thead>\n",
       "  <tbody>\n",
       "    <tr>\n",
       "      <th>0</th>\n",
       "      <td>0.0</td>\n",
       "      <td>-1.359807</td>\n",
       "      <td>-0.072781</td>\n",
       "      <td>2.536347</td>\n",
       "      <td>1.378155</td>\n",
       "      <td>-0.338321</td>\n",
       "      <td>0.462388</td>\n",
       "      <td>0.239599</td>\n",
       "      <td>0.098698</td>\n",
       "      <td>0.363787</td>\n",
       "      <td>...</td>\n",
       "      <td>-0.018307</td>\n",
       "      <td>0.277838</td>\n",
       "      <td>-0.110474</td>\n",
       "      <td>0.066928</td>\n",
       "      <td>0.128539</td>\n",
       "      <td>-0.189115</td>\n",
       "      <td>0.133558</td>\n",
       "      <td>-0.021053</td>\n",
       "      <td>149.62</td>\n",
       "      <td>0</td>\n",
       "    </tr>\n",
       "    <tr>\n",
       "      <th>1</th>\n",
       "      <td>0.0</td>\n",
       "      <td>1.191857</td>\n",
       "      <td>0.266151</td>\n",
       "      <td>0.166480</td>\n",
       "      <td>0.448154</td>\n",
       "      <td>0.060018</td>\n",
       "      <td>-0.082361</td>\n",
       "      <td>-0.078803</td>\n",
       "      <td>0.085102</td>\n",
       "      <td>-0.255425</td>\n",
       "      <td>...</td>\n",
       "      <td>-0.225775</td>\n",
       "      <td>-0.638672</td>\n",
       "      <td>0.101288</td>\n",
       "      <td>-0.339846</td>\n",
       "      <td>0.167170</td>\n",
       "      <td>0.125895</td>\n",
       "      <td>-0.008983</td>\n",
       "      <td>0.014724</td>\n",
       "      <td>2.69</td>\n",
       "      <td>0</td>\n",
       "    </tr>\n",
       "    <tr>\n",
       "      <th>2</th>\n",
       "      <td>1.0</td>\n",
       "      <td>-1.358354</td>\n",
       "      <td>-1.340163</td>\n",
       "      <td>1.773209</td>\n",
       "      <td>0.379780</td>\n",
       "      <td>-0.503198</td>\n",
       "      <td>1.800499</td>\n",
       "      <td>0.791461</td>\n",
       "      <td>0.247676</td>\n",
       "      <td>-1.514654</td>\n",
       "      <td>...</td>\n",
       "      <td>0.247998</td>\n",
       "      <td>0.771679</td>\n",
       "      <td>0.909412</td>\n",
       "      <td>-0.689281</td>\n",
       "      <td>-0.327642</td>\n",
       "      <td>-0.139097</td>\n",
       "      <td>-0.055353</td>\n",
       "      <td>-0.059752</td>\n",
       "      <td>378.66</td>\n",
       "      <td>0</td>\n",
       "    </tr>\n",
       "    <tr>\n",
       "      <th>3</th>\n",
       "      <td>1.0</td>\n",
       "      <td>-0.966272</td>\n",
       "      <td>-0.185226</td>\n",
       "      <td>1.792993</td>\n",
       "      <td>-0.863291</td>\n",
       "      <td>-0.010309</td>\n",
       "      <td>1.247203</td>\n",
       "      <td>0.237609</td>\n",
       "      <td>0.377436</td>\n",
       "      <td>-1.387024</td>\n",
       "      <td>...</td>\n",
       "      <td>-0.108300</td>\n",
       "      <td>0.005274</td>\n",
       "      <td>-0.190321</td>\n",
       "      <td>-1.175575</td>\n",
       "      <td>0.647376</td>\n",
       "      <td>-0.221929</td>\n",
       "      <td>0.062723</td>\n",
       "      <td>0.061458</td>\n",
       "      <td>123.50</td>\n",
       "      <td>0</td>\n",
       "    </tr>\n",
       "    <tr>\n",
       "      <th>4</th>\n",
       "      <td>2.0</td>\n",
       "      <td>-1.158233</td>\n",
       "      <td>0.877737</td>\n",
       "      <td>1.548718</td>\n",
       "      <td>0.403034</td>\n",
       "      <td>-0.407193</td>\n",
       "      <td>0.095921</td>\n",
       "      <td>0.592941</td>\n",
       "      <td>-0.270533</td>\n",
       "      <td>0.817739</td>\n",
       "      <td>...</td>\n",
       "      <td>-0.009431</td>\n",
       "      <td>0.798278</td>\n",
       "      <td>-0.137458</td>\n",
       "      <td>0.141267</td>\n",
       "      <td>-0.206010</td>\n",
       "      <td>0.502292</td>\n",
       "      <td>0.219422</td>\n",
       "      <td>0.215153</td>\n",
       "      <td>69.99</td>\n",
       "      <td>0</td>\n",
       "    </tr>\n",
       "  </tbody>\n",
       "</table>\n",
       "<p>5 rows × 31 columns</p>\n",
       "</div>"
      ],
      "text/plain": [
       "   Time        V1        V2        V3        V4        V5        V6        V7  \\\n",
       "0   0.0 -1.359807 -0.072781  2.536347  1.378155 -0.338321  0.462388  0.239599   \n",
       "1   0.0  1.191857  0.266151  0.166480  0.448154  0.060018 -0.082361 -0.078803   \n",
       "2   1.0 -1.358354 -1.340163  1.773209  0.379780 -0.503198  1.800499  0.791461   \n",
       "3   1.0 -0.966272 -0.185226  1.792993 -0.863291 -0.010309  1.247203  0.237609   \n",
       "4   2.0 -1.158233  0.877737  1.548718  0.403034 -0.407193  0.095921  0.592941   \n",
       "\n",
       "         V8        V9  ...       V21       V22       V23       V24       V25  \\\n",
       "0  0.098698  0.363787  ... -0.018307  0.277838 -0.110474  0.066928  0.128539   \n",
       "1  0.085102 -0.255425  ... -0.225775 -0.638672  0.101288 -0.339846  0.167170   \n",
       "2  0.247676 -1.514654  ...  0.247998  0.771679  0.909412 -0.689281 -0.327642   \n",
       "3  0.377436 -1.387024  ... -0.108300  0.005274 -0.190321 -1.175575  0.647376   \n",
       "4 -0.270533  0.817739  ... -0.009431  0.798278 -0.137458  0.141267 -0.206010   \n",
       "\n",
       "        V26       V27       V28  Amount  Class  \n",
       "0 -0.189115  0.133558 -0.021053  149.62      0  \n",
       "1  0.125895 -0.008983  0.014724    2.69      0  \n",
       "2 -0.139097 -0.055353 -0.059752  378.66      0  \n",
       "3 -0.221929  0.062723  0.061458  123.50      0  \n",
       "4  0.502292  0.219422  0.215153   69.99      0  \n",
       "\n",
       "[5 rows x 31 columns]"
      ]
     },
     "metadata": {},
     "output_type": "display_data"
    }
   ],
   "source": [
    "# Inspección inicial\n",
    "print(\"Dimensiones del dataset:\", data.shape)\n",
    "print(\"Primeras filas del dataset:\")\n",
    "display(data.head())"
   ]
  },
  {
   "cell_type": "code",
   "execution_count": 26,
   "metadata": {},
   "outputs": [
    {
     "name": "stdout",
     "output_type": "stream",
     "text": [
      "Distribución de la variable objetivo (Class):\n",
      "Class\n",
      "0    0.5\n",
      "1    0.5\n",
      "Name: proportion, dtype: float64\n"
     ]
    }
   ],
   "source": [
    "print(\"Distribución de la variable objetivo (Class):\")\n",
    "if 'Class' in data.columns:\n",
    "    print(data['Class'].value_counts(normalize=True))\n",
    "else:\n",
    "    print(\"La columna 'Class' no está presente en los datos.\")"
   ]
  },
  {
   "cell_type": "markdown",
   "metadata": {},
   "source": [
    "# Manejo de Valores Faltantes"
   ]
  },
  {
   "cell_type": "code",
   "execution_count": 27,
   "metadata": {},
   "outputs": [
    {
     "name": "stdout",
     "output_type": "stream",
     "text": [
      "\n",
      "Valores faltantes por columna:\n",
      "Series([], dtype: int64)\n"
     ]
    }
   ],
   "source": [
    "# Verificar valores faltantes\n",
    "print(\"\\nValores faltantes por columna:\")\n",
    "missing_values = data.isnull().sum()\n",
    "print(missing_values[missing_values > 0])"
   ]
  },
  {
   "cell_type": "code",
   "execution_count": 28,
   "metadata": {},
   "outputs": [
    {
     "name": "stdout",
     "output_type": "stream",
     "text": [
      "\n",
      "Porcentaje de valores faltantes por columna:\n",
      "Series([], dtype: float64)\n"
     ]
    }
   ],
   "source": [
    "# Porcentaje de valores faltantes\n",
    "print(\"\\nPorcentaje de valores faltantes por columna:\")\n",
    "missing_percentage = (missing_values / len(data)) * 100\n",
    "print(missing_percentage[missing_percentage > 0])"
   ]
  },
  {
   "cell_type": "code",
   "execution_count": 29,
   "metadata": {},
   "outputs": [
    {
     "name": "stdout",
     "output_type": "stream",
     "text": [
      "No se encontraron valores faltantes.\n"
     ]
    }
   ],
   "source": [
    "if missing_values.sum() > 0:\n",
    "    data.fillna(data.mean(), inplace=True)\n",
    "    print(\"\\nSe imputaron valores faltantes con la media.\")\n",
    "else:\n",
    "    print(\"No se encontraron valores faltantes.\")"
   ]
  },
  {
   "cell_type": "markdown",
   "metadata": {},
   "source": [
    "# Codificación de Variables Categóricas"
   ]
  },
  {
   "cell_type": "code",
   "execution_count": 30,
   "metadata": {},
   "outputs": [
    {
     "name": "stdout",
     "output_type": "stream",
     "text": [
      "\n",
      "Columnas categóricas identificadas:\n",
      "Index([], dtype='object')\n"
     ]
    }
   ],
   "source": [
    "categorical_cols = data.select_dtypes(include=['object', 'category']).columns\n",
    "print(\"\\nColumnas categóricas identificadas:\")\n",
    "print(categorical_cols)"
   ]
  },
  {
   "cell_type": "code",
   "execution_count": 31,
   "metadata": {},
   "outputs": [
    {
     "name": "stdout",
     "output_type": "stream",
     "text": [
      "No se encontraron columnas categóricas para codificar.\n"
     ]
    }
   ],
   "source": [
    "if len(categorical_cols) > 0:\n",
    "    # Aplicar One-Hot Encoding\n",
    "    data = pd.get_dummies(data, columns=categorical_cols, drop_first=True)\n",
    "    print(\"\\nSe aplicó One-Hot Encoding. Dimensiones del dataset después de la codificación:\")\n",
    "    print(data.shape)\n",
    "else:\n",
    "    print(\"No se encontraron columnas categóricas para codificar.\")"
   ]
  },
  {
   "cell_type": "markdown",
   "metadata": {},
   "source": [
    "# Dividir el Dataset (Train/Test Split)"
   ]
  },
  {
   "cell_type": "code",
   "execution_count": 32,
   "metadata": {},
   "outputs": [],
   "source": [
    "# Separar características y etiquetas\n",
    "X = data.drop(columns=['Class'])  \n",
    "y = data['Class']\n",
    "\n",
    "# División en entrenamiento y prueba\n",
    "X_train, X_test, y_train, y_test = train_test_split(\n",
    "    X, y, test_size=0.2, random_state=42, stratify=y  # Stratify para mantener la proporción de clases\n",
    ")"
   ]
  },
  {
   "cell_type": "code",
   "execution_count": 33,
   "metadata": {},
   "outputs": [
    {
     "name": "stdout",
     "output_type": "stream",
     "text": [
      "\n",
      "Tamaño de los conjuntos:\n",
      "Entrenamiento: (454904, 30), Prueba: (113726, 30)\n",
      "\n",
      "Distribución de clases en el conjunto de entrenamiento:\n",
      "Class\n",
      "0    0.5\n",
      "1    0.5\n",
      "Name: proportion, dtype: float64\n",
      "\n",
      "Distribución de clases en el conjunto de prueba:\n",
      "Class\n",
      "1    0.5\n",
      "0    0.5\n",
      "Name: proportion, dtype: float64\n"
     ]
    }
   ],
   "source": [
    "print(\"\\nTamaño de los conjuntos:\")\n",
    "print(f\"Entrenamiento: {X_train.shape}, Prueba: {X_test.shape}\")\n",
    "print(\"\\nDistribución de clases en el conjunto de entrenamiento:\")\n",
    "print(y_train.value_counts(normalize=True))\n",
    "print(\"\\nDistribución de clases en el conjunto de prueba:\")\n",
    "print(y_test.value_counts(normalize=True))"
   ]
  },
  {
   "cell_type": "markdown",
   "metadata": {},
   "source": [
    "# Selección de Características"
   ]
  },
  {
   "cell_type": "code",
   "execution_count": 34,
   "metadata": {},
   "outputs": [],
   "source": [
    "# Matriz de correlación\n",
    "correlation_matrix = data.corr()"
   ]
  },
  {
   "cell_type": "code",
   "execution_count": 35,
   "metadata": {},
   "outputs": [
    {
     "name": "stdout",
     "output_type": "stream",
     "text": [
      "\n",
      "Características más correlacionadas con la variable objetivo:\n",
      "V4     0.741339\n",
      "V11    0.717036\n",
      "V2     0.529498\n",
      "V19    0.288029\n",
      "V20    0.177626\n",
      "V21    0.147414\n",
      "V28    0.102841\n",
      "V27    0.088156\n",
      "V26    0.069554\n",
      "V8     0.063410\n",
      "Name: Class, dtype: float64\n"
     ]
    }
   ],
   "source": [
    "# Características altamente correlacionadas con la variable objetivo\n",
    "correlation_target = correlation_matrix['Class'].sort_values(ascending=False)[1:11]\n",
    "print(\"\\nCaracterísticas más correlacionadas con la variable objetivo:\")\n",
    "print(correlation_target)"
   ]
  },
  {
   "cell_type": "code",
   "execution_count": 36,
   "metadata": {},
   "outputs": [
    {
     "name": "stdout",
     "output_type": "stream",
     "text": [
      "\n",
      "Características con baja correlación con la variable objetivo:\n",
      "Index(['Time', 'V1', 'V3', 'V5', 'V6', 'V7', 'V9', 'V10', 'V12', 'V13', 'V14',\n",
      "       'V15', 'V16', 'V17', 'V18', 'V22', 'V23', 'V24'],\n",
      "      dtype='object')\n",
      "Considera eliminar estas columnas si no tienen un valor analítico evidente.\n"
     ]
    }
   ],
   "source": [
    "# Identificar características con baja correlación con la variable objetivo\n",
    "low_corr_features = correlation_matrix['Class'][correlation_matrix['Class'] < 0.01].index\n",
    "if len(low_corr_features) > 0:\n",
    "    print(\"\\nCaracterísticas con baja correlación con la variable objetivo:\")\n",
    "    print(low_corr_features)\n",
    "    print(\"Considera eliminar estas columnas si no tienen un valor analítico evidente.\")\n",
    "else:\n",
    "    print(\"No se encontraron características con baja correlación con la variable objetivo.\")"
   ]
  },
  {
   "cell_type": "code",
   "execution_count": 37,
   "metadata": {},
   "outputs": [
    {
     "name": "stdout",
     "output_type": "stream",
     "text": [
      "\n",
      "Características redundantes altamente correlacionadas entre sí:\n",
      "'V1' está altamente correlacionada con ['V3', 'V5', 'V7']\n",
      "'V3' está altamente correlacionada con ['V1', 'V5', 'V7', 'V10']\n",
      "'V4' está altamente correlacionada con ['V11']\n",
      "'V5' está altamente correlacionada con ['V1', 'V3', 'V7']\n",
      "'V7' está altamente correlacionada con ['V1', 'V3', 'V5', 'V10']\n",
      "'V9' está altamente correlacionada con ['V10']\n",
      "'V10' está altamente correlacionada con ['V3', 'V7', 'V9', 'V12', 'V16', 'V17', 'V18']\n",
      "'V11' está altamente correlacionada con ['V4']\n",
      "'V12' está altamente correlacionada con ['V10', 'V14', 'V16', 'V17', 'V18']\n",
      "'V14' está altamente correlacionada con ['V12']\n",
      "'V16' está altamente correlacionada con ['V10', 'V12', 'V17', 'V18']\n",
      "'V17' está altamente correlacionada con ['V10', 'V12', 'V16', 'V18']\n",
      "'V18' está altamente correlacionada con ['V10', 'V12', 'V16', 'V17']\n"
     ]
    }
   ],
   "source": [
    "# Identificar características altamente correlacionadas entre sí\n",
    "print(\"\\nCaracterísticas redundantes altamente correlacionadas entre sí:\")\n",
    "redundant_features = []\n",
    "for col in correlation_matrix.columns:\n",
    "    high_corr = correlation_matrix[col][correlation_matrix[col] > 0.8].index.drop(col)\n",
    "    if len(high_corr) > 0:\n",
    "        redundant_features.append((col, list(high_corr)))\n",
    "\n",
    "if len(redundant_features) > 0:\n",
    "    for pair in redundant_features:\n",
    "        print(f\"'{pair[0]}' está altamente correlacionada con {pair[1]}\")\n",
    "else:\n",
    "    print(\"No se encontraron características redundantes con alta correlación entre sí.\")"
   ]
  },
  {
   "cell_type": "code",
   "execution_count": 38,
   "metadata": {},
   "outputs": [
    {
     "name": "stdout",
     "output_type": "stream",
     "text": [
      "\n",
      "Dimensiones del dataset después de eliminar características irrelevantes o redundantes:\n",
      "(454904, 12) (113726, 12)\n"
     ]
    }
   ],
   "source": [
    "# Preselección de características\n",
    "columns_to_drop = list(low_corr_features)\n",
    "X_train = X_train.drop(columns=columns_to_drop, errors='ignore')\n",
    "X_test = X_test.drop(columns=columns_to_drop, errors='ignore')\n",
    "\n",
    "print(\"\\nDimensiones del dataset después de eliminar características irrelevantes o redundantes:\")\n",
    "print(X_train.shape, X_test.shape)"
   ]
  },
  {
   "cell_type": "markdown",
   "metadata": {},
   "source": [
    "# Estandarización/Escalado de Variables"
   ]
  },
  {
   "cell_type": "code",
   "execution_count": 39,
   "metadata": {},
   "outputs": [],
   "source": [
    "# Seleccionar columnas numéricas\n",
    "numeric_cols = X_train.select_dtypes(include=np.number).columns\n",
    "\n",
    "# Instanciar el escalador\n",
    "scaler = StandardScaler()"
   ]
  },
  {
   "cell_type": "code",
   "execution_count": 40,
   "metadata": {},
   "outputs": [],
   "source": [
    "# Ajustar el escalador con los datos de entrenamiento y transformar\n",
    "X_train_scaled = X_train.copy()\n",
    "X_train_scaled[numeric_cols] = scaler.fit_transform(X_train[numeric_cols])"
   ]
  },
  {
   "cell_type": "code",
   "execution_count": 41,
   "metadata": {},
   "outputs": [],
   "source": [
    "# Transformar el conjunto de prueba con el mismo escalador\n",
    "X_test_scaled = X_test.copy()\n",
    "X_test_scaled[numeric_cols] = scaler.transform(X_test[numeric_cols])"
   ]
  },
  {
   "cell_type": "code",
   "execution_count": 42,
   "metadata": {},
   "outputs": [
    {
     "name": "stdout",
     "output_type": "stream",
     "text": [
      "Primeras filas del conjunto de entrenamiento escalado:\n"
     ]
    },
    {
     "data": {
      "text/html": [
       "<div>\n",
       "<style scoped>\n",
       "    .dataframe tbody tr th:only-of-type {\n",
       "        vertical-align: middle;\n",
       "    }\n",
       "\n",
       "    .dataframe tbody tr th {\n",
       "        vertical-align: top;\n",
       "    }\n",
       "\n",
       "    .dataframe thead th {\n",
       "        text-align: right;\n",
       "    }\n",
       "</style>\n",
       "<table border=\"1\" class=\"dataframe\">\n",
       "  <thead>\n",
       "    <tr style=\"text-align: right;\">\n",
       "      <th></th>\n",
       "      <th>V2</th>\n",
       "      <th>V4</th>\n",
       "      <th>V8</th>\n",
       "      <th>V11</th>\n",
       "      <th>V19</th>\n",
       "      <th>V20</th>\n",
       "      <th>V21</th>\n",
       "      <th>V25</th>\n",
       "      <th>V26</th>\n",
       "      <th>V27</th>\n",
       "      <th>V28</th>\n",
       "      <th>Amount</th>\n",
       "    </tr>\n",
       "  </thead>\n",
       "  <tbody>\n",
       "    <tr>\n",
       "      <th>225908</th>\n",
       "      <td>-0.103564</td>\n",
       "      <td>-1.135830</td>\n",
       "      <td>-0.008527</td>\n",
       "      <td>-0.895665</td>\n",
       "      <td>0.190010</td>\n",
       "      <td>0.028540</td>\n",
       "      <td>-0.368411</td>\n",
       "      <td>-0.055985</td>\n",
       "      <td>0.424774</td>\n",
       "      <td>0.439732</td>\n",
       "      <td>0.063925</td>\n",
       "      <td>-0.386212</td>\n",
       "    </tr>\n",
       "    <tr>\n",
       "      <th>154030</th>\n",
       "      <td>-0.679096</td>\n",
       "      <td>-0.616388</td>\n",
       "      <td>-0.027713</td>\n",
       "      <td>-0.191537</td>\n",
       "      <td>-0.432603</td>\n",
       "      <td>-0.409348</td>\n",
       "      <td>-0.176852</td>\n",
       "      <td>-1.104181</td>\n",
       "      <td>0.928810</td>\n",
       "      <td>-0.135011</td>\n",
       "      <td>-0.243160</td>\n",
       "      <td>-0.355758</td>\n",
       "    </tr>\n",
       "    <tr>\n",
       "      <th>465602</th>\n",
       "      <td>0.429253</td>\n",
       "      <td>0.554411</td>\n",
       "      <td>0.359145</td>\n",
       "      <td>0.676642</td>\n",
       "      <td>1.295175</td>\n",
       "      <td>0.162514</td>\n",
       "      <td>0.271004</td>\n",
       "      <td>0.130874</td>\n",
       "      <td>-0.502920</td>\n",
       "      <td>0.241509</td>\n",
       "      <td>1.855433</td>\n",
       "      <td>0.026196</td>\n",
       "    </tr>\n",
       "    <tr>\n",
       "      <th>276397</th>\n",
       "      <td>-0.261205</td>\n",
       "      <td>-1.060702</td>\n",
       "      <td>0.127156</td>\n",
       "      <td>-0.548150</td>\n",
       "      <td>-0.837447</td>\n",
       "      <td>-0.358095</td>\n",
       "      <td>-0.209916</td>\n",
       "      <td>-1.067787</td>\n",
       "      <td>0.517521</td>\n",
       "      <td>0.194364</td>\n",
       "      <td>0.044782</td>\n",
       "      <td>-0.364680</td>\n",
       "    </tr>\n",
       "    <tr>\n",
       "      <th>203835</th>\n",
       "      <td>-0.849219</td>\n",
       "      <td>-0.977542</td>\n",
       "      <td>-0.050253</td>\n",
       "      <td>-0.304897</td>\n",
       "      <td>0.160560</td>\n",
       "      <td>0.208792</td>\n",
       "      <td>-0.019464</td>\n",
       "      <td>-0.318090</td>\n",
       "      <td>-0.354454</td>\n",
       "      <td>-0.088607</td>\n",
       "      <td>-0.087890</td>\n",
       "      <td>0.295433</td>\n",
       "    </tr>\n",
       "  </tbody>\n",
       "</table>\n",
       "</div>"
      ],
      "text/plain": [
       "              V2        V4        V8       V11       V19       V20       V21  \\\n",
       "225908 -0.103564 -1.135830 -0.008527 -0.895665  0.190010  0.028540 -0.368411   \n",
       "154030 -0.679096 -0.616388 -0.027713 -0.191537 -0.432603 -0.409348 -0.176852   \n",
       "465602  0.429253  0.554411  0.359145  0.676642  1.295175  0.162514  0.271004   \n",
       "276397 -0.261205 -1.060702  0.127156 -0.548150 -0.837447 -0.358095 -0.209916   \n",
       "203835 -0.849219 -0.977542 -0.050253 -0.304897  0.160560  0.208792 -0.019464   \n",
       "\n",
       "             V25       V26       V27       V28    Amount  \n",
       "225908 -0.055985  0.424774  0.439732  0.063925 -0.386212  \n",
       "154030 -1.104181  0.928810 -0.135011 -0.243160 -0.355758  \n",
       "465602  0.130874 -0.502920  0.241509  1.855433  0.026196  \n",
       "276397 -1.067787  0.517521  0.194364  0.044782 -0.364680  \n",
       "203835 -0.318090 -0.354454 -0.088607 -0.087890  0.295433  "
      ]
     },
     "metadata": {},
     "output_type": "display_data"
    }
   ],
   "source": [
    "print(\"Primeras filas del conjunto de entrenamiento escalado:\")\n",
    "display(X_train_scaled.head())"
   ]
  },
  {
   "cell_type": "code",
   "execution_count": 43,
   "metadata": {},
   "outputs": [
    {
     "name": "stdout",
     "output_type": "stream",
     "text": [
      "Escalador guardado en: ../artifacts/scaler.pkl\n"
     ]
    }
   ],
   "source": [
    "# Guardar el escalador\n",
    "scaler_path = \"../artifacts/scaler.pkl\"\n",
    "joblib.dump(scaler, scaler_path)\n",
    "print(f\"Escalador guardado en: {scaler_path}\")"
   ]
  },
  {
   "cell_type": "markdown",
   "metadata": {},
   "source": [
    "# Guardar los Datos Procesados"
   ]
  },
  {
   "cell_type": "code",
   "execution_count": 44,
   "metadata": {},
   "outputs": [
    {
     "name": "stdout",
     "output_type": "stream",
     "text": [
      "\n",
      "Conjuntos procesados guardados correctamente.\n"
     ]
    }
   ],
   "source": [
    "X_train_scaled.to_csv('../data/processed/X_train.csv', index=False)\n",
    "y_train.to_csv('../data/processed/y_train.csv', index=False)\n",
    "X_test_scaled.to_csv('../data/processed/X_test.csv', index=False)\n",
    "y_test.to_csv('../data/processed/y_test.csv', index=False)\n",
    "\n",
    "print(\"\\nConjuntos procesados guardados correctamente.\")"
   ]
  }
 ],
 "metadata": {
  "kernelspec": {
   "display_name": "data_product_development",
   "language": "python",
   "name": "python3"
  },
  "language_info": {
   "codemirror_mode": {
    "name": "ipython",
    "version": 3
   },
   "file_extension": ".py",
   "mimetype": "text/x-python",
   "name": "python",
   "nbconvert_exporter": "python",
   "pygments_lexer": "ipython3",
   "version": "3.12.7"
  }
 },
 "nbformat": 4,
 "nbformat_minor": 2
}
